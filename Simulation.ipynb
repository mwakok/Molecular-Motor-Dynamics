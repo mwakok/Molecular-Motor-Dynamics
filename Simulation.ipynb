{
 "cells": [
  {
   "cell_type": "markdown",
   "metadata": {},
   "source": [
    "# Simulation of molecular motor dynamics on microtubules\n",
    "\n",
    "\n",
    "### Work done by:\n",
    "* Simulation code: Maurits Kok\n",
    "* Experiments and theory: Louis Reese\n",
    "\n",
    "\n",
    "\n",
    "### Abstract\n",
    "The precise localization of proteins is key to understand biological functions and to quantify protein interactions. Microtubule related motor proteins consume ATP to move along microtubules and often localize at microtubule tips. Whereas molecular motors have been studied extensively in terms of run-lengths and dwell times on the single molecule level, a quantitative understanding of the accumulation of motors on microtubules is still lacking. Here we develop a high-throughput microscopy strategy to accurately determine the distribution of motors on microtubules. By imaging an ensemble of microtubules with motors, datasets are obtained which allow to quantify parameters of a minimal model for the microtubule-motor system. The approach bypasses typical constraints of fluorescence imaging such as bleaching and small sample sizes. As a proof of principle we study quantitatively study the length-dependent accumulation of motors for the case of a yeast dynein. \n",
    "\n",
    "\n",
    "### Simulation\n",
    "To understand the experimentally measured motor protein profiles, we use a simple Gilliespie algorithm to simulate the motion of yeast dynein on a 1D lattice. Four different event can occur:\n",
    "\n",
    "Event 1: Attachment of a particle to an empty lattice site with rate $k_{on}$    \n",
    "Event 2: Detachment of a particle from an occupied lattice site with rate $k_{on}$   \n",
    "Event 3: Detachment of a particle from the lattice end with rate $k_{on}^{tip}$  \n",
    "Event 4: Forward hopping (if next lattice position is unoccupied) with rate $k_{hop}$\n",
    "\n",
    "\n",
    "<img src=\"Fig_model.png\" alt=\"Drawing\" style=\"width: 1000px;\"/>\n",
    "\n",
    "\n",
    "### Relevant publications:\n",
    "* Cho et al. (2008). \"Regulatory ATPase sites of cytoplasmic dynein affect processivity and force generation\". JBC 283(38): 25839-25845\n",
    "* Leduc et al. (2012). \"Molecular crowding creates traffic jams of kinesin motors on microtubules\". PNAS 109(16): 6100-6105\n",
    "* Parmeggiani et al. (2004). \"Totally assymetric simple exclusion process with Langmuir kinetics\". Phys Rev Lett 70: 046101\n",
    "\n"
   ]
  },
  {
   "cell_type": "code",
   "execution_count": 1,
   "metadata": {},
   "outputs": [],
   "source": [
    "# Import packages\n",
    "import numpy as np\n",
    "import matplotlib.pyplot as plt\n",
    "from matplotlib import cm\n",
    "import matplotlib.gridspec as gridspec\n",
    "import pandas as pd\n",
    "import pickle\n",
    "import sys\n",
    "import os\n",
    "from datetime import date, datetime\n",
    "from time import strftime\n",
    "from parameters import ParameterSet\n",
    "from IPython.display import clear_output"
   ]
  },
  {
   "cell_type": "markdown",
   "metadata": {},
   "source": [
    "## Define simulation parameters\n",
    "\\\n",
    "The simulation is performed for a single dynein concentration over a range of lattice sizes until a maximum time. \n"
   ]
  },
  {
   "cell_type": "code",
   "execution_count": 2,
   "metadata": {},
   "outputs": [],
   "source": [
    "# Dictionary to store all simulation parameters\n",
    "simParameters = {}\n",
    "simParameters['record_data'] = False  # Store data and figures: True or False\n",
    "simParameters['num_sims'] = 200  # Number of simulations per scan condition \n",
    "simParameters['scan'] = False  # True (vary lattice size) or False\n",
    "simParameters['type'] = 'SP'  # Determine type of dynein: 'WT' (Wild-Type) or 'SP' (Super-Processive)\n",
    "simParameters['concentration'] = 2.5  # Dynein concentration in nM \n",
    "simParameters['step_size'] = 24  # Basic lattice unit is size of motor step, for dynein the step size is 24 nm\n",
    "simParameters['length'] = 100  # Length lattice in hopping units\n",
    "simParameters['length_range'] = np.arange(40, 301, 10)  # length range to scan\n",
    "simParameters['iter_max'] = 100000  # Maximum number of iterations per condition\n",
    "simParameters['time_max'] = 300  # Max simulated time (in seconds)\n",
    "\n",
    "# Frame time to sample the lattice configuration (in seconds). \n",
    "# If 0, then only the final state will be saved and no kymographs will be generated\n",
    "simParameters['frame_time'] = 1  "
   ]
  },
  {
   "cell_type": "markdown",
   "metadata": {},
   "source": [
    "#### Characteristics of yeast dynein\n",
    "\\\n",
    "The properties for Wild-Type (WT) and Super-Processive (SP) dynein are taken from Cho et al. JCB 2008.\n",
    "\n",
    "| Dynein | Runlength | Velocity|\n",
    "| --- | --- | --- |\n",
    "| Wild type (WT) | 2.25 ± 0.14 $\\mu m$ | 73.9 ± 34.2 $nm/sec$ |\n",
    "| Super processive (SP) | 4.39 ± 0.45 $\\mu m$ | 60.6 ± 18.9 $nm/sec$"
   ]
  },
  {
   "cell_type": "code",
   "execution_count": 3,
   "metadata": {},
   "outputs": [],
   "source": [
    "if simParameters['type'] == 'WT':  # Wild-type dynein\n",
    "    simParameters['k_on'] = 0.0025  # Attachment rate [/nM/sec]\n",
    "    simParameters['k_off'] = 73.9/2250  # Detachment rate bulk [/sec]\n",
    "    simParameters['k_hop'] = 73.9/simParameters['step_size']  # Forward hopping rate [sites/sec]        \n",
    "    simParameters['k_off_end'] = simParameters['k_off']  # Detachment rate end lattice [/sec]\n",
    "    \n",
    "elif simParameters['type'] == 'SP':   # Super processive dynein\n",
    "    simParameters['k_on'] = 0.0025 #  Attachment rate [/nM/sec]\n",
    "    simParameters['k_off'] = 60.6/4390  # Detachment rate bulk [/sec]\n",
    "    simParameters['k_hop'] = 60.6/simParameters['step_size']  # Forward hopping rate [sites/sec]  \n",
    "    simParameters['k_off_end'] = simParameters['k_off']  # Detachment rate end lattice [/sec]"
   ]
  },
  {
   "cell_type": "code",
   "execution_count": 4,
   "metadata": {},
   "outputs": [],
   "source": [
    "# Transform parameters into a ParameterSet\n",
    "simPa = ParameterSet(simParameters)"
   ]
  },
  {
   "cell_type": "code",
   "execution_count": 5,
   "metadata": {},
   "outputs": [],
   "source": [
    "# Set default folder\n",
    "ROOT  = os.getcwd() \n",
    "sys.path.insert(0, ROOT)\n",
    "\n",
    "# Setup data recording variables\n",
    "DATE = str(date.today())\n",
    "TIME = str(strftime('%X'))\n",
    "TIME = TIME.replace(':', '-')\n",
    "\n",
    "# Create output folder\n",
    "if simPa.record_data:\n",
    "#     foldername = ROOT + '\\\\SIM_RUNS\\\\' + DATE + '__' + TIME\n",
    "    foldername = 'G:\\\\DATA\\\\SIM_RUNS\\\\' + DATE + '__' + TIME       \n",
    "    os.makedirs(foldername)"
   ]
  },
  {
   "cell_type": "markdown",
   "metadata": {},
   "source": [
    "### Function to calculate the propensities of all events  "
   ]
  },
  {
   "cell_type": "code",
   "execution_count": 6,
   "metadata": {},
   "outputs": [],
   "source": [
    "# Calculate the propensity for each event\n",
    "def propensity(rates, lattice):\n",
    "    num_event_1 = np.count_nonzero(lattice == 0)  # Empty sites\n",
    "    num_event_2 = np.count_nonzero(lattice[:-1] == 1)  # Occupied sites\n",
    "    num_event_3 = lattice[-1]  # Lattice end\n",
    "    num_event_4 = np.count_nonzero((lattice[1:] - lattice[:-1]) == -1)  # Foward hopping\n",
    "    pp = np.multiply(rates, [num_event_1, num_event_2, num_event_3, num_event_4])\n",
    "        \n",
    "    return pp  "
   ]
  },
  {
   "cell_type": "markdown",
   "metadata": {},
   "source": [
    "### Function to update the lattice after an event"
   ]
  },
  {
   "cell_type": "code",
   "execution_count": 7,
   "metadata": {},
   "outputs": [],
   "source": [
    "# Update state of lattice    \n",
    "def update_state(event, state):            \n",
    "    if event == 0:  # Attachment event   \n",
    "        pos = np.nonzero(state == 0)[0]\n",
    "        index = np.random.choice(pos)\n",
    "        state[index] += 1 \n",
    "    elif event == 1:  # Detachment event lattice\n",
    "        pos = np.nonzero(state[:-1] == 1)[0]\n",
    "        index = np.random.choice(pos)\n",
    "        state[index] -= 1\n",
    "    elif event == 2:  # Detachment event lattice end\n",
    "        state[-1] -= 1\n",
    "    elif event == 3:  # Forward hopping event\n",
    "        pos = np.nonzero((state[1:] - state[:-1]) == -1)[0]\n",
    "        index = np.random.choice(pos)\n",
    "        state[index] -= 1\n",
    "        state[index + 1] += 1\n",
    "    \n",
    "    return state"
   ]
  },
  {
   "cell_type": "markdown",
   "metadata": {},
   "source": [
    "### Function to run the Gillespie simulation"
   ]
  },
  {
   "cell_type": "code",
   "execution_count": 8,
   "metadata": {},
   "outputs": [],
   "source": [
    "# Monte Carlo simulation based on the Gillespie algorithm\n",
    "def gillespie(simPa):                    \n",
    "    # Extract simulation parameters\n",
    "    rates = [simPa.concentration*simPa.k_on, simPa.k_off, simPa.k_off_end, simPa.k_hop]\n",
    "\n",
    "    # Initialize simulation counters and output\n",
    "    counter = 0  # simulation iteration\n",
    "    tt = 0  # time\n",
    "    lattice = np.zeros(simPa.length) # start simulation with an empty lattice\n",
    "    lattice_cont = []\n",
    "    tt_cont = []   \n",
    "    rand_nums = np.random.rand(2,simPa.iter_max)   # Pre-draw random numbers\n",
    "\n",
    "    # Run Gillespie simulation until \"simPa.time_max\"\n",
    "    while simPa.iter_max > counter and simPa.time_max+1 > tt:\n",
    "                  \n",
    "        pp = propensity(rates, lattice)  # Calculate probability for all events       \n",
    "        delta_t = -np.log(rand_nums[0][counter]) / pp.sum()  # Draw waiting time\n",
    "\n",
    "        # Construct valid events\n",
    "        valid_inds = pp > 0 # Find the possible events\n",
    "        valid_pp = pp[valid_inds] # Include only valid events\n",
    "        valid_changes = np.nonzero(valid_inds)[0]       \n",
    "        \n",
    "        # Stop current simulation if no valid changes are available\n",
    "        if len(valid_changes) == 0:\n",
    "            break   \n",
    "\n",
    "        selection_interval = valid_pp.cumsum()  # Construct intervals\n",
    "        selection_interval = selection_interval/selection_interval[-1]\n",
    "        selected_ind = np.nonzero(selection_interval > rand_nums[1][counter])[0][0]   # Select interval\n",
    "        lattice = update_state(valid_changes[selected_ind], lattice)  # Update lattice configuration based on chosen interval\n",
    "        \n",
    "        tt += delta_t   \n",
    "        counter +=1                \n",
    "        \n",
    "        # Apply sampling if applicable        \n",
    "        if simPa.frame_time > 0:\n",
    "            while len(lattice_cont) < np.floor(tt/simPa.frame_time) and len(lattice_cont) <= simPa.time_max:                   \n",
    "                lattice_cont.append(lattice.copy())\n",
    "                tt_cont.append(tt)            \n",
    "    \n",
    "    # Collect final state if sampling is off  \n",
    "    if simPa.frame_time == 0:\n",
    "        lattice_cont = lattice\n",
    "        tt_cont = tt\n",
    "        \n",
    "    return lattice_cont, tt_cont              "
   ]
  },
  {
   "cell_type": "markdown",
   "metadata": {},
   "source": [
    "### Simulation of motor protein dynamics on a 1D lattice\n",
    "\n",
    "The data is stored as a pandas.DataFrame"
   ]
  },
  {
   "cell_type": "code",
   "execution_count": 9,
   "metadata": {},
   "outputs": [
    {
     "name": "stdout",
     "output_type": "stream",
     "text": [
      "Current progress: 100.0 %\n"
     ]
    }
   ],
   "source": [
    "RESULTS = pd.DataFrame(columns=['Time', 'Lattice','Concentration', 'Length', 'Frametime', 'Type', 'Stepsize', 'Rates', 'Datestamp', 'Timestamp'])\n",
    "rates = [simPa.concentration*simPa.k_on, simPa.k_off, simPa.k_off_end, simPa.k_hop]\n",
    "update = 0        \n",
    "\n",
    "# Setup parameter scanning\n",
    "if simPa.scan:    \n",
    "    simPa.scan_range = simPa.length_range\n",
    "else:\n",
    "    simPa.scan_range = [simPa.length]\n",
    "    \n",
    "for length in simPa.scan_range:    \n",
    "    simPa.length = length  # Update lattice size     \n",
    "    for run in range(simPa.num_sims):\n",
    "\n",
    "        clear_output(wait=True)    \n",
    "        [lattice, time] = gillespie(simPa)  # Call Gillespie simulation\n",
    "\n",
    "        # Store results as pandas.DataFrame        \n",
    "        data = {\n",
    "                'Time': np.asarray(time), 'Lattice': np.asarray(lattice), \n",
    "                'Concentration': simPa.concentration, 'Length': simPa.length, \n",
    "                'Frametime': simPa.frame_time, 'Type': simPa.type, 'Stepsize': simPa.step_size,\n",
    "                'Rates': np.round(rates,4), 'Datestamp': DATE, 'Timestamp': TIME.replace('-', ':')\n",
    "               }\n",
    "        RESULTS = RESULTS.append(data, ignore_index=True)                                 \n",
    "\n",
    "        # Update progress report\n",
    "        update += 1\n",
    "        print(\"Current progress:\",np.round(update/(len(simPa.scan_range)*simPa.num_sims) *100, 2),\"%\")    "
   ]
  },
  {
   "cell_type": "code",
   "execution_count": 10,
   "metadata": {},
   "outputs": [],
   "source": [
    "# Save Data\n",
    "if simPa.record_data:            \n",
    "    filename = foldername + '\\\\' + 'SIM_DYNEIN_' + str(simPa.type) + '_' + str(simPa.concentration) + '.data'\n",
    "       \n",
    "    with open(filename, 'wb') as filehandle:\n",
    "        pickle.dump(RESULTS, filehandle)    "
   ]
  },
  {
   "cell_type": "markdown",
   "metadata": {},
   "source": [
    "### Display kymograph for all lattice lengths\n",
    "\n",
    "Only possibile if the lattice is sampled over time, i.e. frame time > 0."
   ]
  },
  {
   "cell_type": "code",
   "execution_count": 11,
   "metadata": {},
   "outputs": [
    {
     "data": {
      "image/png": "[encoded data removed]",
      "text/plain": [
       "<Figure size 288x288 with 1 Axes>"
      ]
     },
     "metadata": {
      "needs_background": "light"
     },
     "output_type": "display_data"
    }
   ],
   "source": [
    "# Plot kymographs if time-series is present, i.e. frame time > 0\n",
    "if simPa.frame_time > 0:\n",
    "    # Number of plots\n",
    "    if simPa.scan:\n",
    "        num_scans = len(simPa.scan_range)\n",
    "        rows = int(np.ceil(num_scans/3))\n",
    "        cols = num_scans if num_scans < 3 else 3 \n",
    "    else:\n",
    "         rows = cols = 1\n",
    "\n",
    "    # Setup figure\n",
    "    fig = plt.figure(constrained_layout=True, figsize=(cols*4 ,rows*4))\n",
    "    spec = fig.add_gridspec(ncols=cols, nrows=rows)\n",
    "\n",
    "    fig_num = 0\n",
    "    for row in range(rows):\n",
    "        for col in range(cols):         \n",
    "            if fig_num < len(simPa.scan_range):\n",
    "\n",
    "                # Filter specific lattice size\n",
    "                filter_length = RESULTS['Length']==simPa.scan_range[fig_num]\n",
    "                lattice = RESULTS[filter_length].Lattice           \n",
    "\n",
    "                # Prepare data\n",
    "                X = np.arange(0, lattice.iloc[0].shape[1])\n",
    "                X = X * (simPa.step_size/1000) # change units to um\n",
    "                Y = np.arange(0, lattice.iloc[0].shape[0])\n",
    "                Y = Y * simPa.frame_time # change units to seconds\n",
    "                X, Y = np.meshgrid(X, Y)      \n",
    "                Z_mean = np.mean(lattice, axis=0)                      \n",
    "\n",
    "                # Plot data\n",
    "                ax = fig.add_subplot(spec[row, col])     \n",
    "                ax.contourf(np.flip(X), Y, Z_mean, 100, cmap='PRGn')    \n",
    "                ax.set_ylim(Y[-1][0],0)  \n",
    "                ax.set_xlabel('Microtubule length ($\\mu$m)', fontsize=12)\n",
    "                ax.set_ylabel('Time (s)', fontsize=12)\n",
    "\n",
    "                if simPa.scan:\n",
    "                    ax.set_title('Length = ' + str(np.round(simPa.scan_range[fig_num]*(simPa.step_size/1000),2)) + ' $\\mu$m' , fontsize=14)  \n",
    "                else:\n",
    "                    ax.set_title('Kymograph (N = ' + str(simPa.num_sims) + ')', fontsize=14)\n",
    "\n",
    "                fig_num += 1\n",
    "\n",
    "    # Save plot\n",
    "    if simPa.record_data:\n",
    "        filename = foldername + \"/\" + 'Figure_1'\n",
    "        plt.savefig(filename+'.eps', format='eps', dpi=1200)\n",
    "        plt.savefig(filename+'.png', format='png', dpi=300)\n",
    "\n",
    "    plt.show()"
   ]
  },
  {
   "cell_type": "code",
   "execution_count": null,
   "metadata": {},
   "outputs": [],
   "source": []
  }
 ],
 "metadata": {
  "kernelspec": {
   "display_name": "Python 3",
   "language": "python",
   "name": "python3"
  },
  "language_info": {
   "codemirror_mode": {
    "name": "ipython",
    "version": 3
   },
   "file_extension": ".py",
   "mimetype": "text/x-python",
   "name": "python",
   "nbconvert_exporter": "python",
   "pygments_lexer": "ipython3",
   "version": "3.7.3"
  },
  "varInspector": {
   "cols": {
    "lenName": 16,
    "lenType": 16,
    "lenVar": 40
   },
   "kernels_config": {
    "python": {
     "delete_cmd_postfix": "",
     "delete_cmd_prefix": "del ",
     "library": "var_list.py",
     "varRefreshCmd": "print(var_dic_list())"
    },
    "r": {
     "delete_cmd_postfix": ") ",
     "delete_cmd_prefix": "rm(",
     "library": "var_list.r",
     "varRefreshCmd": "cat(var_dic_list()) "
    }
   },
   "position": {
    "height": "494px",
    "left": "870px",
    "right": "20px",
    "top": "229px",
    "width": "800px"
   },
   "types_to_exclude": [
    "module",
    "function",
    "builtin_function_or_method",
    "instance",
    "_Feature"
   ],
   "window_display": false
  },
  "widgets": {
   "application/vnd.jupyter.widget-state+json": {
    "state": {},
    "version_major": 2,
    "version_minor": 0
   }
  }
 },
 "nbformat": 4,
 "nbformat_minor": 2
}
