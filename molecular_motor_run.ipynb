{
 "metadata": {
  "language_info": {
   "codemirror_mode": {
    "name": "ipython",
    "version": 3
   },
   "file_extension": ".py",
   "mimetype": "text/x-python",
   "name": "python",
   "nbconvert_exporter": "python",
   "pygments_lexer": "ipython3",
   "version": "3.6.6-final"
  },
  "orig_nbformat": 2,
  "kernelspec": {
   "name": "python_defaultSpec_1600976254043",
   "display_name": "Python 3.6.6 64-bit ('base': conda)"
  }
 },
 "nbformat": 4,
 "nbformat_minor": 2,
 "cells": [
  {
   "cell_type": "code",
   "execution_count": 17,
   "metadata": {},
   "outputs": [],
   "source": [
    "# Import packages\n",
    "import numpy as np\n",
    "import matplotlib.pyplot as plt\n",
    "from matplotlib import cm\n",
    "import matplotlib.gridspec as gridspec\n",
    "import pandas as pd\n",
    "import pickle\n",
    "import sys\n",
    "import os\n",
    "from datetime import date, datetime\n",
    "from time import strftime\n",
    "from parameters import ParameterSet\n",
    "from IPython.display import clear_output\n",
    "\n",
    "from motor import simulation_parameters\n",
    "from motor.simulation import gillespie"
   ]
  },
  {
   "cell_type": "code",
   "execution_count": 18,
   "metadata": {},
   "outputs": [],
   "source": [
    "simPa = ParameterSet(simulation_parameters.simParameters)\n"
   ]
  },
  {
   "cell_type": "code",
   "execution_count": 19,
   "metadata": {},
   "outputs": [],
   "source": [
    "ROOT = os.getcwd()\n",
    "sys.path.insert(0, ROOT)\n",
    "\n",
    "# Setup data recording variables\n",
    "DATE = str(date.today())\n",
    "TIME = str(strftime('%X'))\n",
    "TIME = TIME.replace(':', '-')\n",
    "\n",
    "# Create output folder\n",
    "if simPa.record_data:\n",
    "    foldername = ROOT + '\\\\SIM_RUNS\\\\' + DATE + '__' + TIME\n",
    "    os.makedirs(foldername)"
   ]
  },
  {
   "cell_type": "code",
   "execution_count": 20,
   "metadata": {},
   "outputs": [],
   "source": [
    "[lattice_states, timepoints] = gillespie(simPa)\n"
   ]
  },
  {
   "cell_type": "code",
   "execution_count": null,
   "metadata": {},
   "outputs": [],
   "source": []
  }
 ]
}