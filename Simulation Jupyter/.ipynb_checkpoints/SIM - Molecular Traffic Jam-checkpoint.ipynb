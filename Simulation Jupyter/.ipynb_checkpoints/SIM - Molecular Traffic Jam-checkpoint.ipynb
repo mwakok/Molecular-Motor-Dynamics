{
 "cells": [
  {
   "cell_type": "markdown",
   "metadata": {},
   "source": [
    "# Simulation Molecular Traffic Jam\n",
    "\n",
    "Simulation of traffic jam formation with molecular motors based on the Gillespie algorithm. \n",
    "\n"
   ]
  },
  {
   "cell_type": "code",
   "execution_count": 1,
   "metadata": {},
   "outputs": [],
   "source": [
    "# Import packages\n",
    "import numpy as np\n",
    "import matplotlib.pyplot as plt\n",
    "from matplotlib import cm\n",
    "import sys\n",
    "import os\n",
    "from parameters import ParameterSet"
   ]
  },
  {
   "cell_type": "code",
   "execution_count": 2,
   "metadata": {},
   "outputs": [],
   "source": [
    "# Set default folder\n",
    "ROOT  = os.getcwd()\n",
    "\n",
    "sys.path.insert(0, ROOT)"
   ]
  },
  {
   "cell_type": "markdown",
   "metadata": {},
   "source": [
    "## Define simulation parameters\n"
   ]
  },
  {
   "cell_type": "code",
   "execution_count": 3,
   "metadata": {},
   "outputs": [],
   "source": [
    "simParameters = {}\n",
    "\n",
    "# Determine type of dynein: 'WT' (Wild-Type) or 'SP' (Super-Processive)\n",
    "simParameters['Type'] = 'SP'\n",
    "\n",
    "# Basic lattice unit is size of motor step, for dynein the step size is 24 nm\n",
    "simParameters['step'] = 24\n",
    "\n",
    "simParameters['L'] = 100 # Length lattice in hopping units\n",
    "simParameters['L_max'] = 300 # Max length lattice in hopping units\n",
    "simParameters['L_min'] = 30 # Min length lattice in hopping untis\n",
    "\n",
    "simParameters['R_max'] = 20000 # Maximum number of simulation steps\n",
    "simParameters['T_max'] = 500 # Max simulated time (in seconds)\n",
    "simParameters['MTs'] = 10 # Number of traffic jams to simulate\n",
    "\n",
    "# Determine the sampling interval for saving the lattice configuration\n",
    "# If sampling = 0, then only the last state will be saved. Otherwise, it\n",
    "# determines the time interval (in seconds) at which to sample the output.\n",
    "simParameters['sampling'] = 0"
   ]
  },
  {
   "cell_type": "markdown",
   "metadata": {},
   "source": [
    "## Define characteristics of the molecular motor\n",
    "\n",
    "The runlength and velocity parameters for the dynein are taken from Cho et al. JCB 2008.  \n",
    "\n",
    "Wild type yeast dynein:\n",
    "* Runlength = 2.25 ± 0.14 um\n",
    "* Velocity  = 73.9 ± 34.2 nm/sec  \n",
    "\n",
    "Super processive yeast dynein:\n",
    "* Runlength = 4.39 ± 0.45 um\n",
    "* Velocity  = 60.6 ± 18.9 nm/sec"
   ]
  },
  {
   "cell_type": "code",
   "execution_count": 4,
   "metadata": {},
   "outputs": [],
   "source": [
    "if simParameters['Type'] == 'WT':\n",
    "    simParameters['Conc'] = 1.45 # Concentration in nM\n",
    "    simParameters['k_on'] = 0.0025 # Attachment rate [/nM/sec]\n",
    "    simParameters['k_off'] = 73.9/2250 # Detachment rate bulk [/sec]\n",
    "    simParameters['k_off_end'] = simParameters['k_off'] # Detachment rate end lattice [/sec]\n",
    "    simParameters['k_hop'] = 73.9/simParameters['step'] # Forward hopping rate [sites/sec]        \n",
    "    \n",
    "elif simParameters['Type'] == 'SP':\n",
    "    simParameters['Conc'] = 1 # Concentration in nM\n",
    "    simParameters['k_on'] = 0.0025 # Attachment rate [/nM/sec]\n",
    "    simParameters['k_off'] = 60.6/4390 # Detachment rate bulk [/sec]\n",
    "    simParameters['k_off_end'] = simParameters['k_off'] # Detachment rate end lattice [/sec]\n",
    "    simParameters['k_hop'] = 60.6/simParameters['step'] # Forward hopping rate [sites/sec]  "
   ]
  },
  {
   "cell_type": "code",
   "execution_count": 5,
   "metadata": {},
   "outputs": [],
   "source": [
    "simPa = ParameterSet(simParameters)"
   ]
  },
  {
   "cell_type": "markdown",
   "metadata": {},
   "source": [
    "### Function to calculate the propensity of each event\n",
    "\n",
    "Event 1) Attachment of a particle to an empty spot    \n",
    "Event 2) Detachment of a particle from an occupied spot   \n",
    "Event 3) Detachment of a particle from the lattice end  \n",
    "Event 4) Forward hopping  \n",
    " "
   ]
  },
  {
   "cell_type": "code",
   "execution_count": 6,
   "metadata": {},
   "outputs": [],
   "source": [
    "# Function: Probability of each event\n",
    "def probability(rates, lattice):\n",
    "    \n",
    "    N_events = np.zeros(4)\n",
    "    Location_events = [None]*4\n",
    "    \n",
    "    # Empty sites    \n",
    "    N_events[0] = (lattice == 0).sum()\n",
    "    Location_events[0] = np.nonzero(lattice == 0)[0]\n",
    "    \n",
    "    # Occupied sites (excluding lattice end)\n",
    "    N_events[1] = (lattice[:-1] == 1).sum()\n",
    "    Location_events[1] = np.nonzero(lattice[:-1] == 1)[0]\n",
    "    \n",
    "    # Lattice end\n",
    "    N_events[2] = (lattice[-1] == 1).sum()\n",
    "    Location_events[2] = np.nonzero(lattice[-1] == 1)[0]\n",
    "    \n",
    "    # Hopping events\n",
    "    D_events = np.diff(lattice)\n",
    "    N_events[3] = (D_events == -1).sum()    \n",
    "    Location_events[3] = np.nonzero(D_events == -1)[0]\n",
    "    \n",
    "    # Calculate propensities of each event\n",
    "    pp = np.multiply(rates, N_events)\n",
    "        \n",
    "    return Location_events, pp  "
   ]
  },
  {
   "cell_type": "markdown",
   "metadata": {},
   "source": [
    "### Function to update lattice state\n"
   ]
  },
  {
   "cell_type": "code",
   "execution_count": 7,
   "metadata": {},
   "outputs": [],
   "source": [
    "# Function: update state of lattice\n",
    "def updateState(event, selection, state):\n",
    "    \n",
    "    # Attachment event       \n",
    "    if event == 0:\n",
    "        index = np.random.randint(len(selection))\n",
    "        state[selection[index]] += 1\n",
    "            \n",
    "    # Detachment event lattice\n",
    "    elif event == 1:\n",
    "        index = np.random.randint(len(selection))\n",
    "        state[selection[index]] -= 1\n",
    "                    \n",
    "    # Detachment event lattice end\n",
    "    elif event == 2:\n",
    "        state[-1] -= 1\n",
    "\n",
    "    # Forward hopping event\n",
    "    elif event == 3:\n",
    "        index = np.random.randint(len(selection))\n",
    "        state[selection[index]] -= 1\n",
    "        state[selection[index]+1] += 1\n",
    "       \n",
    "    return state"
   ]
  },
  {
   "cell_type": "markdown",
   "metadata": {},
   "source": [
    "### Function: Gillespie simulation"
   ]
  },
  {
   "cell_type": "code",
   "execution_count": 8,
   "metadata": {},
   "outputs": [],
   "source": [
    "def gillespie(simPa):            \n",
    "    \n",
    "    # Extract simulation parameters\n",
    "    rates = [simPa.Conc*simPa.k_on, simPa.k_off, simPa.k_off_end, simPa.k_hop]\n",
    "\n",
    "    # Initialize simulation\n",
    "    R_counter = 0\n",
    "    tt = 0\n",
    "\n",
    "    # Initialize output\n",
    "    lattice_cont = [np.zeros(simPa.L)]\n",
    "    tt_cont = np.zeros(1)\n",
    "\n",
    "    # Draw randum numbers\n",
    "    rand_nums = np.random.rand(2,simPa.R_max)\n",
    "\n",
    "    # Run Gillespie simulation\n",
    "    while simPa.R_max > R_counter and simPa.T_max+1 > tt:\n",
    "         \n",
    "        # Calculate probability for all events\n",
    "        state = lattice_cont[R_counter]\n",
    "        [Position_events, pp] = probability(rates, state)\n",
    "\n",
    "        # Draw waiting time\n",
    "        delta_t = -np.log(rand_nums[0][R_counter]) / np.sum(pp)\n",
    "\n",
    "        # Construct intervals\n",
    "        valid_inds = pp > 0 # Find the possible events\n",
    "        valid_pp = pp[valid_inds] # Include only valid events\n",
    "        valid_changes = np.nonzero(valid_inds)[0]       \n",
    "        \n",
    "        # Stop current simulation if no valid changes are possible\n",
    "        if len(valid_changes) == 0:\n",
    "            break   \n",
    "\n",
    "        # Construct intervals\n",
    "        selection_interval = np.cumsum(valid_pp) # Cumulative sum\n",
    "        selection_interval = selection_interval/selection_interval[-1] # Normalize to [0,1]\n",
    "\n",
    "        # Select interval\n",
    "        selected_ind = np.nonzero(selection_interval > rand_nums[1][R_counter])[0][0]\n",
    "        update_ind = Position_events[valid_changes[selected_ind]]\n",
    "\n",
    "        # Update lattice configuration\n",
    "        state_new = updateState(valid_changes[selected_ind], update_ind, state)\n",
    "        lattice_cont = np.vstack((lattice_cont, state_new))\n",
    "\n",
    "        # Update time and simulation counter\n",
    "        tt += delta_t\n",
    "        tt_cont = np.append(tt_cont, tt)\n",
    "        R_counter +=1\n",
    "        \n",
    "    return lattice_cont, tt_cont              "
   ]
  },
  {
   "cell_type": "code",
   "execution_count": 27,
   "metadata": {
    "scrolled": true
   },
   "outputs": [
    {
     "name": "stdout",
     "output_type": "stream",
     "text": [
      "0.09094045130654782\n"
     ]
    }
   ],
   "source": [
    "# Run single simulation\n",
    "[L, T] = gillespie(simPa)    "
   ]
  },
  {
   "cell_type": "code",
   "execution_count": 28,
   "metadata": {},
   "outputs": [
    {
     "data": {
      "image/png": "[encoded data removed]",
      "text/plain": [
       "<Figure size 432x288 with 1 Axes>"
      ]
     },
     "metadata": {
      "needs_background": "light"
     },
     "output_type": "display_data"
    }
   ],
   "source": [
    "# Plot kymograph of single simulation\n",
    "fig, ax = plt.subplots()\n",
    "\n",
    "# Prepare data.\n",
    "X = np.arange(0,L.shape[1],1)\n",
    "Y = np.arange(0,len(T),1)\n",
    "X, Y = np.meshgrid(X, Y)\n",
    "Z = L\n",
    "\n",
    "# Plot the filled contour.\n",
    "plt.contourf(X, Y, Z, cmap='Greys')\n",
    "ax.set_ylim(len(T),0)\n",
    "plt.show()"
   ]
  },
  {
   "cell_type": "code",
   "execution_count": null,
   "metadata": {},
   "outputs": [],
   "source": [
    "# Run multiple simulations\n",
    "for runs in range(simPa.MTs):\n",
    "\n",
    "    [L, T] = gillespie(simPa)    \n",
    "    \n",
    "    # Sample data\n",
    "    \n",
    "    # Store Data       \n",
    "    \n",
    "    # Save Data\n",
    "    "
   ]
  },
  {
   "cell_type": "code",
   "execution_count": null,
   "metadata": {},
   "outputs": [],
   "source": []
  },
  {
   "cell_type": "code",
   "execution_count": null,
   "metadata": {},
   "outputs": [],
   "source": []
  }
 ],
 "metadata": {
  "kernelspec": {
   "display_name": "Python 3",
   "language": "python",
   "name": "python3"
  },
  "language_info": {
   "codemirror_mode": {
    "name": "ipython",
    "version": 3
   },
   "file_extension": ".py",
   "mimetype": "text/x-python",
   "name": "python",
   "nbconvert_exporter": "python",
   "pygments_lexer": "ipython3",
   "version": "3.7.3"
  }
 },
 "nbformat": 4,
 "nbformat_minor": 2
}
