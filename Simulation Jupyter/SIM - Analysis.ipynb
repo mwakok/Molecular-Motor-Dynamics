{
 "cells": [
  {
   "cell_type": "markdown",
   "metadata": {},
   "source": [
    "## Analyse simulated motor profiles\n"
   ]
  },
  {
   "cell_type": "code",
   "execution_count": 1,
   "metadata": {},
   "outputs": [],
   "source": [
    "# Import packages\n",
    "import numpy as np\n",
    "import matplotlib.pyplot as plt\n",
    "from matplotlib import cm\n",
    "import matplotlib.gridspec as gridspec\n",
    "import pandas as pd\n",
    "import pickle\n",
    "import os"
   ]
  },
  {
   "cell_type": "code",
   "execution_count": 2,
   "metadata": {},
   "outputs": [
    {
     "name": "stdout",
     "output_type": "stream",
     "text": [
      "G:\\DATA\\SIM_RUNS\\2020-04-11__14-09-31\\SIM_DYNEIN.data\n",
      "G:\\DATA\\SIM_RUNS\\2020-04-11__14-54-26\\SIM_DYNEIN.data\n",
      "G:\\DATA\\SIM_RUNS\\2020-04-12__14-57-51\\SIM_DYNEIN.data\n",
      "G:\\DATA\\SIM_RUNS\\2020-04-12__15-43-50\\SIM_DYNEIN.data\n",
      "G:\\DATA\\SIM_RUNS\\2020-04-10__21-20-36\\SIM_DYNEIN.data\n"
     ]
    }
   ],
   "source": [
    "# Collect, unpickle, and combine data files\n",
    "data_path = 'G:\\\\DATA\\\\SIM_RUNS'\n",
    "\n",
    "# Find all files\n",
    "files_all = [os.path.join(r,file) for r,d,f in os.walk(data_path) for file in f]\n",
    "\n",
    "# Unpickle data files\n",
    "RESULTS = pd.DataFrame()\n",
    "for file in files_all:\n",
    "    if '.data' in file:                \n",
    "        infile = open(file,'rb')\n",
    "        df = pickle.load(infile)\n",
    "        RESULTS = RESULTS.append(df)\n",
    "        infile.close\n",
    "        print(file)        "
   ]
  },
  {
   "cell_type": "code",
   "execution_count": 3,
   "metadata": {},
   "outputs": [
    {
     "data": {
      "text/html": [
       "<div>\n",
       "<style scoped>\n",
       "    .dataframe tbody tr th:only-of-type {\n",
       "        vertical-align: middle;\n",
       "    }\n",
       "\n",
       "    .dataframe tbody tr th {\n",
       "        vertical-align: top;\n",
       "    }\n",
       "\n",
       "    .dataframe thead th {\n",
       "        text-align: right;\n",
       "    }\n",
       "</style>\n",
       "<table border=\"1\" class=\"dataframe\">\n",
       "  <thead>\n",
       "    <tr style=\"text-align: right;\">\n",
       "      <th></th>\n",
       "      <th>Time</th>\n",
       "      <th>Lattice</th>\n",
       "      <th>Concentration</th>\n",
       "      <th>Length</th>\n",
       "      <th>Frametime</th>\n",
       "      <th>Type</th>\n",
       "      <th>Stepsize</th>\n",
       "      <th>Rates</th>\n",
       "      <th>Datestamp</th>\n",
       "      <th>Timestamp</th>\n",
       "    </tr>\n",
       "  </thead>\n",
       "  <tbody>\n",
       "    <tr>\n",
       "      <th>0</th>\n",
       "      <td>[8.66685584863308, 8.66685584863308, 8.6668558...</td>\n",
       "      <td>[[0.0, 0.0, 0.0, 0.0, 0.0, 0.0, 0.0, 0.0, 0.0,...</td>\n",
       "      <td>1</td>\n",
       "      <td>40</td>\n",
       "      <td>1</td>\n",
       "      <td>SP</td>\n",
       "      <td>24</td>\n",
       "      <td>[0.0025, 0.0138, 0.0138, 2.525]</td>\n",
       "      <td>2020-04-11</td>\n",
       "      <td>14:09:31</td>\n",
       "    </tr>\n",
       "    <tr>\n",
       "      <th>1</th>\n",
       "      <td>[2.879619067826961, 2.879619067826961, 3.45616...</td>\n",
       "      <td>[[0.0, 0.0, 0.0, 0.0, 0.0, 0.0, 0.0, 0.0, 0.0,...</td>\n",
       "      <td>1</td>\n",
       "      <td>40</td>\n",
       "      <td>1</td>\n",
       "      <td>SP</td>\n",
       "      <td>24</td>\n",
       "      <td>[0.0025, 0.0138, 0.0138, 2.525]</td>\n",
       "      <td>2020-04-11</td>\n",
       "      <td>14:09:31</td>\n",
       "    </tr>\n",
       "    <tr>\n",
       "      <th>2</th>\n",
       "      <td>[24.809818446181357, 24.809818446181357, 24.80...</td>\n",
       "      <td>[[0.0, 0.0, 0.0, 0.0, 0.0, 0.0, 0.0, 0.0, 0.0,...</td>\n",
       "      <td>1</td>\n",
       "      <td>40</td>\n",
       "      <td>1</td>\n",
       "      <td>SP</td>\n",
       "      <td>24</td>\n",
       "      <td>[0.0025, 0.0138, 0.0138, 2.525]</td>\n",
       "      <td>2020-04-11</td>\n",
       "      <td>14:09:31</td>\n",
       "    </tr>\n",
       "    <tr>\n",
       "      <th>3</th>\n",
       "      <td>[2.9580224059112816, 2.9580224059112816, 3.475...</td>\n",
       "      <td>[[0.0, 0.0, 0.0, 0.0, 0.0, 0.0, 0.0, 0.0, 0.0,...</td>\n",
       "      <td>1</td>\n",
       "      <td>40</td>\n",
       "      <td>1</td>\n",
       "      <td>SP</td>\n",
       "      <td>24</td>\n",
       "      <td>[0.0025, 0.0138, 0.0138, 2.525]</td>\n",
       "      <td>2020-04-11</td>\n",
       "      <td>14:09:31</td>\n",
       "    </tr>\n",
       "    <tr>\n",
       "      <th>4</th>\n",
       "      <td>[10.239383340530068, 10.239383340530068, 10.23...</td>\n",
       "      <td>[[0.0, 0.0, 0.0, 0.0, 0.0, 0.0, 0.0, 0.0, 0.0,...</td>\n",
       "      <td>1</td>\n",
       "      <td>40</td>\n",
       "      <td>1</td>\n",
       "      <td>SP</td>\n",
       "      <td>24</td>\n",
       "      <td>[0.0025, 0.0138, 0.0138, 2.525]</td>\n",
       "      <td>2020-04-11</td>\n",
       "      <td>14:09:31</td>\n",
       "    </tr>\n",
       "  </tbody>\n",
       "</table>\n",
       "</div>"
      ],
      "text/plain": [
       "                                                Time  \\\n",
       "0  [8.66685584863308, 8.66685584863308, 8.6668558...   \n",
       "1  [2.879619067826961, 2.879619067826961, 3.45616...   \n",
       "2  [24.809818446181357, 24.809818446181357, 24.80...   \n",
       "3  [2.9580224059112816, 2.9580224059112816, 3.475...   \n",
       "4  [10.239383340530068, 10.239383340530068, 10.23...   \n",
       "\n",
       "                                             Lattice Concentration Length  \\\n",
       "0  [[0.0, 0.0, 0.0, 0.0, 0.0, 0.0, 0.0, 0.0, 0.0,...             1     40   \n",
       "1  [[0.0, 0.0, 0.0, 0.0, 0.0, 0.0, 0.0, 0.0, 0.0,...             1     40   \n",
       "2  [[0.0, 0.0, 0.0, 0.0, 0.0, 0.0, 0.0, 0.0, 0.0,...             1     40   \n",
       "3  [[0.0, 0.0, 0.0, 0.0, 0.0, 0.0, 0.0, 0.0, 0.0,...             1     40   \n",
       "4  [[0.0, 0.0, 0.0, 0.0, 0.0, 0.0, 0.0, 0.0, 0.0,...             1     40   \n",
       "\n",
       "  Frametime Type Stepsize                            Rates   Datestamp  \\\n",
       "0         1   SP       24  [0.0025, 0.0138, 0.0138, 2.525]  2020-04-11   \n",
       "1         1   SP       24  [0.0025, 0.0138, 0.0138, 2.525]  2020-04-11   \n",
       "2         1   SP       24  [0.0025, 0.0138, 0.0138, 2.525]  2020-04-11   \n",
       "3         1   SP       24  [0.0025, 0.0138, 0.0138, 2.525]  2020-04-11   \n",
       "4         1   SP       24  [0.0025, 0.0138, 0.0138, 2.525]  2020-04-11   \n",
       "\n",
       "  Timestamp  \n",
       "0  14:09:31  \n",
       "1  14:09:31  \n",
       "2  14:09:31  \n",
       "3  14:09:31  \n",
       "4  14:09:31  "
      ]
     },
     "execution_count": 3,
     "metadata": {},
     "output_type": "execute_result"
    }
   ],
   "source": [
    "RESULTS.head()"
   ]
  },
  {
   "cell_type": "code",
   "execution_count": 4,
   "metadata": {},
   "outputs": [
    {
     "name": "stdout",
     "output_type": "stream",
     "text": [
      "Dynein types: ['SP']\n",
      "Lengths: [40 60 80 100 120 140 160 180 200 220 240 260 280 300]\n",
      "Concentrations: [1 2.5 4 1.5]\n"
     ]
    }
   ],
   "source": [
    "# Investigate data set\n",
    "print('Dynein types: ' + str(RESULTS.Type.unique()))\n",
    "print('Lengths: ' + str(RESULTS.Length.unique()))\n",
    "print('Concentrations: ' + str(RESULTS.Concentration.unique()))"
   ]
  },
  {
   "cell_type": "code",
   "execution_count": 5,
   "metadata": {},
   "outputs": [],
   "source": [
    "# Option to convolve the data with an experimentally determined PSF\n",
    "convolve_data = True\n",
    "step_size = 24\n",
    "\n",
    "if convolve_data:\n",
    "    # Microscope characteristics\n",
    "    fwhm = 700  # width of the experimental Point Spread Function (in nm)\n",
    "    sigma = (fwhm / 2.335) / step_size\n",
    "\n",
    "    # Construct Gaussian filter\n",
    "    sz = 100\n",
    "    x = np.arange(-sz/2, (sz+1)/2)\n",
    "    gauss_filter = np.exp(-x**2 / (2*sigma**2))\n",
    "    gauss_filter = gauss_filter / np.sum(gauss_filter)"
   ]
  },
  {
   "cell_type": "code",
   "execution_count": 12,
   "metadata": {},
   "outputs": [
    {
     "data": {
      "image/png": "[encoded data removed]",
      "text/plain": [
       "<Figure size 1080x720 with 4 Axes>"
      ]
     },
     "metadata": {
      "needs_background": "light"
     },
     "output_type": "display_data"
    }
   ],
   "source": [
    "# Plot steady-state dynein profile for all lattice lengths\n",
    "\n",
    "# Select concentration to plot\n",
    "Concentration = 4\n",
    "\n",
    "# Setup figure\n",
    "fig = plt.figure(constrained_layout=True, figsize=(15 ,10))\n",
    "spec = fig.add_gridspec(ncols=3, nrows=2)\n",
    "\n",
    "lengths = RESULTS.Length.unique()\n",
    "colors = [cm.copper(x) for x in np.arange(0, 256, len(lengths))]\n",
    "Y_max = []\n",
    "Y_width = []\n",
    "\n",
    "ax = fig.add_subplot(spec[0, :])\n",
    "\n",
    "for length, color in zip(lengths, colors):        \n",
    "    \n",
    "    # Prepare data\n",
    "    data = RESULTS[RESULTS.Concentration.eq(Concentration) & RESULTS.Length.eq(length)].Lattice\n",
    "    data = [data.iloc[x][-1] for x in range(len(data))]    \n",
    "    \n",
    "    if convolve_data:\n",
    "        Y = np.mean(data, axis=0)   \n",
    "        Y = np.concatenate((np.zeros(sz), Y, np.zeros(sz)), axis=None) \n",
    "        Y = np.convolve(Y, gauss_filter, 'same')\n",
    "        X = np.arange(-sz, len(Y)-sz, 1) * (step_size/1000) \n",
    "    else:\n",
    "        Y = np.mean(data, axis=0)  \n",
    "        X = np.arange(0, len(Y), 1) * (step_size/1000)                \n",
    "    \n",
    "    Y_max.append(np.max(Y))\n",
    "    \n",
    "    # Calculate width (FWHM) of the traffic jam\n",
    "    xvals = np.linspace(0, X[-1], len(X)*50)\n",
    "    Y_interp = np.interp(xvals, X, Y)  \n",
    "    fwhm_peak = np.where(Y_interp >= Y_max[-1]*0.5)[0]  \n",
    "    Y_width.append(xvals[fwhm_peak[-1]] - xvals[fwhm_peak[0]])\n",
    "    \n",
    "    ax.plot(X, np.flip(Y), color=color, linewidth=2)        \n",
    "\n",
    "ax.set_xlim((-2, 10))        \n",
    "ax.set_xlabel('Microtubule length ($\\mu$m)', fontsize=14)\n",
    "ax.set_ylabel('Motor density (a.u.)' , fontsize=14)\n",
    "ax.text(9, np.max(Y_max), 'Concentration = '+ str(Concentration) + ' nM', \n",
    "        horizontalalignment='right', verticalalignment='top', fontsize = 15)\n",
    "\n",
    "\n",
    "# Plot max intensity\n",
    "ax = fig.add_subplot(spec[1,0])\n",
    "ax.scatter(lengths*(step_size/1000), Y_max, c='black')\n",
    "ax.set_xlim(left=0)\n",
    "ax.set_ylim(bottom=0)   \n",
    "ax.set_xlabel('Microtubule length ($\\mu$m)', fontsize=14)\n",
    "ax.set_ylabel('Peak motor density (a.u.)' , fontsize=14)\n",
    "\n",
    "# Plot FWHM of traffic jam\n",
    "ax = fig.add_subplot(spec[1,1])\n",
    "ax.scatter(lengths* (step_size/1000), np.multiply(Y_width,1000), c='black')\n",
    "ax.set_xlabel('Microtubule length ($\\mu$m)', fontsize=14)\n",
    "ax.set_ylabel('Width traffic jam (nm)' , fontsize=14)\n",
    "\n",
    "# Plot plus-end slope\n",
    "ax = fig.add_subplot(spec[1,2])\n",
    "\n",
    "\n",
    "plt.show()"
   ]
  },
  {
   "cell_type": "code",
   "execution_count": 8,
   "metadata": {},
   "outputs": [
    {
     "data": {
      "text/plain": [
       "<Figure size 1080x720 with 0 Axes>"
      ]
     },
     "metadata": {},
     "output_type": "display_data"
    }
   ],
   "source": [
    "# Plot steady-state dynein profile for all lattice lengths\n",
    "\n",
    "# Select parameters to plot\n",
    "dynein_type = 'SP'\n",
    "dynein_conc = RESULTS.Concentration.unique()\n",
    "\n",
    "# Setup figure\n",
    "fig = plt.figure(constrained_layout=True, figsize=(15 ,10))\n",
    "ncols = 2\n",
    "nrows = np.ceil(len(dynein_conc)/2)\n",
    "spec = fig.add_gridspec(ncols=ncols, nrows=nrows)\n",
    "\n",
    "lengths = RESULTS.Length.unique()\n",
    "colors = [cm.copper(x) for x in np.arange(0, 256, len(lengths))]\n",
    "\n",
    "for length, color in zip(lengths, colors):\n",
    "\n",
    "    data = RESULTS[RESULTS.Concentration.eq(Concentration) & RESULTS.Length.eq(length)].Lattice\n",
    "    data = [data.iloc[x][-1] for x in range(len(data))]    \n",
    "\n",
    "    # Prepare data\n",
    "    if convolve_data:\n",
    "        Y = np.mean(data, axis=0)   \n",
    "        Y = np.concatenate((np.zeros(sz), Y, np.zeros(sz)), axis=None) \n",
    "        Y = np.convolve(Y, gauss_filter, 'same')\n",
    "        X = np.arange(-sz, len(Y)-sz, 1) * (step_size/1000) \n",
    "    else:\n",
    "        Y = np.mean(data, axis=0)  \n",
    "        X = np.arange(0, len(Y), 1) * (step_size/1000)\n",
    "        \n",
    "    ax.plot(X, np.flip(Y), color=color, linewidth=2)\n",
    "\n",
    "ax.set_xlim((-2, 10))        \n",
    "ax.set_xlabel('Microtubule length ($\\mu$m)', fontsize=13)\n",
    "ax.set_ylabel('Motor density (a.u.)' , fontsize=13)\n",
    "\n",
    "plt.show()"
   ]
  }
 ],
 "metadata": {
  "kernelspec": {
   "display_name": "Python 3",
   "language": "python",
   "name": "python3"
  },
  "language_info": {
   "codemirror_mode": {
    "name": "ipython",
    "version": 3
   },
   "file_extension": ".py",
   "mimetype": "text/x-python",
   "name": "python",
   "nbconvert_exporter": "python",
   "pygments_lexer": "ipython3",
   "version": "3.7.3"
  },
  "varInspector": {
   "cols": {
    "lenName": 16,
    "lenType": 16,
    "lenVar": 40
   },
   "kernels_config": {
    "python": {
     "delete_cmd_postfix": "",
     "delete_cmd_prefix": "del ",
     "library": "var_list.py",
     "varRefreshCmd": "print(var_dic_list())"
    },
    "r": {
     "delete_cmd_postfix": ") ",
     "delete_cmd_prefix": "rm(",
     "library": "var_list.r",
     "varRefreshCmd": "cat(var_dic_list()) "
    }
   },
   "types_to_exclude": [
    "module",
    "function",
    "builtin_function_or_method",
    "instance",
    "_Feature"
   ],
   "window_display": false
  }
 },
 "nbformat": 4,
 "nbformat_minor": 2
}
