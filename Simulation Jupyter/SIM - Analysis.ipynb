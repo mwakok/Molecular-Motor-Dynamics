{
 "cells": [
  {
   "cell_type": "code",
   "execution_count": null,
   "metadata": {},
   "outputs": [],
   "source": [
    "# # MOVE TO ANALYSIS\n",
    "# # Plot mean distribution of lattice occupation for different concentrations\n",
    "# if simPa.Scan == 'Length':\n",
    "    \n",
    "#     fig, ax = plt.subplots(figsize = (5,5))\n",
    "\n",
    "#     # Prepare data mean density\n",
    "#     for num in range(simPa.nScan):\n",
    "\n",
    "#         #  Prepare data filter\n",
    "#         if simPa.Scan is not False:\n",
    "#             filter_scan = SIM_results[simPa.Scan]==var_param[num]\n",
    "#             lattice = SIM_results[filter_scan].Lattice        \n",
    "#         else:\n",
    "#             lattice = SIM_results.Lattice \n",
    "\n",
    "#          # Prepare data\n",
    "#         X = np.arange(0, lattice.iloc[0].shape[1])\n",
    "#         X = X * (simPa.step/1000) # change units to um\n",
    "#         Y = np.mean(lattice, axis=0)     \n",
    "\n",
    "#         ax.plot(X,Y[-1,])\n",
    "\n",
    "#     ax.set_xlabel('Microtubule length ($\\mu$m)', fontsize=13)\n",
    "#     ax.set_ylabel('Motor density (a.u.)' , fontsize=13)\n",
    "#     ax.set_title('State @ t=' + str(simPa.T_max) +' sec', fontsize=14)\n",
    "    \n",
    "#     if simPa.Scan is 'Length':\n",
    "#         labels = ['%.0f $\\mu$m' %(var_param[x]*(simPa.step/1000)) for x in range(simPa.nScan)]\n",
    "#         ax.legend(labels, title=simPa.Scan, fontsize='small', loc='upper left')\n",
    "# #     elif simPa.Scan is 'Concentration':\n",
    "# #         labels = ['%.2f nM' %var_param[x] for x in range(simPa.nScan)]\n",
    "# #         ax.legend(labels, title=simPa.Scan, fontsize='small', loc='upper left')     \n",
    "\n",
    "#     # Save plot\n",
    "#     if simPa.record_data:\n",
    "#         filename = foldername + \"/\" + 'Figure_2'\n",
    "#         plt.savefig(filename+'.eps', format='eps', dpi=1200)\n",
    "#         plt.savefig(filename+'.png', format='png', dpi=300)\n",
    "\n",
    "#     plt.show()"
   ]
  },
  {
   "cell_type": "code",
   "execution_count": null,
   "metadata": {},
   "outputs": [],
   "source": [
    "# Plot of traffic jam formation\n",
    "\n",
    "# fig, ax = plt.subplots(figsize = (5,5))\n",
    "\n",
    "# for num in range(1):\n",
    "# # for num in range(simPa.nScan):\n",
    "\n",
    "#     # Prepare data filter            \n",
    "#     if simPa.Scan is not False:\n",
    "#         filter_scan = RESULTS[simPa.Scan]==var_param[num]\n",
    "#         lattice = RESULTS[filter_scan].Lattice\n",
    "#     else:                      \n",
    "#         lattice = RESULTS.Lattice  \n",
    "\n",
    "#     # Prepare data\n",
    "#     time = np.arange(0, lattice.iloc[0].shape[0])\n",
    "#     time = time * simPa.sampling # change units to seconds\n",
    "#     intp = 10\n",
    "#     Y = np.mean(lattice, axis=0)    \n",
    "#     L = Y.shape[1]\n",
    "    \n",
    "#     for row in range(Y.shape[0]):\n",
    "#         Y_intp = np.interp(time_intp, time, Y[row,])\n",
    "#         FWHM[row] = np.where(Y[x,] >= 0.5)[0]\n",
    "        \n",
    "#     print(FWHM)\n",
    "# print(L)\n",
    "#     FWHM = [np.where(Y[x,] >= 0.5)[0] for x in range(Y.shape[0])]\n",
    "#     for i in range(len(FWHM)):\n",
    "#         if FWHM[i].size > 0:\n",
    "#             FWHM[i] = abs(FWHM[i][0]-Y.shape[1])\n",
    "#         else:\n",
    "#             FWHM[i] = 0\n",
    "\n",
    "    \n",
    "\n",
    "#     ax.plot(time, FWHM)    \n",
    "\n",
    "# ax.set_xlabel('Microtubule length ($\\mu$m)', fontsize=12)\n",
    "# ax.set_ylabel('FWHM (nm)' , fontsize=12)\n",
    "# ax.set_title('Motor density', fontsize = 14)\n",
    "\n",
    "\n",
    "# # Save plot\n",
    "# if simPa.record_data:\n",
    "#     filename = foldername + \"/\" + 'Figure_3'\n",
    "#     plt.savefig(filename+'.eps', format='eps', dpi=1200)\n",
    "#     plt.savefig(filename+'.png', format='png', dpi=300)\n",
    "\n",
    "# plt.show()"
   ]
  }
 ],
 "metadata": {
  "kernelspec": {
   "display_name": "Python 3",
   "language": "python",
   "name": "python3"
  },
  "language_info": {
   "codemirror_mode": {
    "name": "ipython",
    "version": 3
   },
   "file_extension": ".py",
   "mimetype": "text/x-python",
   "name": "python",
   "nbconvert_exporter": "python",
   "pygments_lexer": "ipython3",
   "version": "3.7.3"
  },
  "varInspector": {
   "cols": {
    "lenName": 16,
    "lenType": 16,
    "lenVar": 40
   },
   "kernels_config": {
    "python": {
     "delete_cmd_postfix": "",
     "delete_cmd_prefix": "del ",
     "library": "var_list.py",
     "varRefreshCmd": "print(var_dic_list())"
    },
    "r": {
     "delete_cmd_postfix": ") ",
     "delete_cmd_prefix": "rm(",
     "library": "var_list.r",
     "varRefreshCmd": "cat(var_dic_list()) "
    }
   },
   "types_to_exclude": [
    "module",
    "function",
    "builtin_function_or_method",
    "instance",
    "_Feature"
   ],
   "window_display": false
  }
 },
 "nbformat": 4,
 "nbformat_minor": 2
}
