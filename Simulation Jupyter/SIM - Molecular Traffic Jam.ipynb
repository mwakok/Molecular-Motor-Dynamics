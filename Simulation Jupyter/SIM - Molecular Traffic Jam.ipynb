{
 "cells": [
  {
   "cell_type": "markdown",
   "metadata": {},
   "source": [
    "# Simulation Molecular Traffic Jam\n",
    "\n",
    "Simulation of traffic jam formation with molecular motors on a microtubule based on the Gillespie algorithm. \n",
    "\n",
    "<img src=\"Fig_model.png\">\n",
    "\n",
    "\n",
    "Relevant publications:\n",
    "* Leduc et al. (2012). \"Molecular crowding creates traffic jams of kinesin motors on microtubules.\" PNAS 109(16): 6100-6105\n",
    "\n"
   ]
  },
  {
   "cell_type": "code",
   "execution_count": 1,
   "metadata": {},
   "outputs": [],
   "source": [
    "# Import packages\n",
    "import numpy as np\n",
    "import matplotlib.pyplot as plt\n",
    "from matplotlib import cm\n",
    "import pickle\n",
    "import sys\n",
    "import os\n",
    "from datetime import date\n",
    "from time import strftime\n",
    "import timeit\n",
    "from parameters import ParameterSet\n",
    "from IPython.display import clear_output\n",
    "import multiprocessing"
   ]
  },
  {
   "cell_type": "markdown",
   "metadata": {},
   "source": [
    "## Define simulation parameters\n"
   ]
  },
  {
   "cell_type": "code",
   "execution_count": 22,
   "metadata": {},
   "outputs": [],
   "source": [
    "# Dictionary to store all simulation parameters\n",
    "simParameters = {}\n",
    "\n",
    "# Store data\n",
    "simParameters['record_data'] = False\n",
    "\n",
    "# Scan parameters \n",
    "# 0 = no scan; 1 = concentration, 2 = microtubule length\n",
    "simParameters['Scan'] = 2 \n",
    "simParameters['Scan_num'] = 5 # number of values to scan\n",
    "\n",
    "# Determine type of dynein: 'WT' (Wild-Type) or 'SP' (Super-Processive)\n",
    "simParameters['Type'] = 'SP'\n",
    "simParameters['Conc'] = 1 # Dynein concentration in nM\n",
    "simParameters['Conc_range'] = [-2, 1] # Range of concentrations in logspace (in nM)\n",
    "\n",
    "# Basic lattice unit is size of motor step, for dynein the step size is 24 nm\n",
    "simParameters['step'] = 24\n",
    "\n",
    "simParameters['L'] = 100 # Length lattice in hopping units\n",
    "simParameters['L_range'] = [30, 100] # Range of lattice sizes\n",
    "\n",
    "# Simulation duration limits\n",
    "simParameters['R_max'] = 20000 # Maximum number of simulation steps\n",
    "simParameters['T_max'] = 300 # Max simulated time (in seconds)\n",
    "simParameters['MTs'] = 50 # Number of traffic jams to simulate\n",
    "\n",
    "# Determine the sampling interval for saving the lattice configuration\n",
    "# If sampling = 0, then only the last state will be saved. Otherwise, it\n",
    "# determines the time interval (in seconds) at which to sample the output.\n",
    "simParameters['sampling'] = 1"
   ]
  },
  {
   "cell_type": "markdown",
   "metadata": {},
   "source": [
    "## Define characteristics of the molecular motor\n",
    "\n",
    "The runlength and velocity parameters for the dynein are taken from Cho et al. JCB 2008.  \n",
    "\n",
    "Wild type yeast dynein:\n",
    "* Runlength = 2.25 ± 0.14 um\n",
    "* Velocity  = 73.9 ± 34.2 nm/sec  \n",
    "\n",
    "Super processive yeast dynein:\n",
    "* Runlength = 4.39 ± 0.45 um\n",
    "* Velocity  = 60.6 ± 18.9 nm/sec"
   ]
  },
  {
   "cell_type": "code",
   "execution_count": 23,
   "metadata": {},
   "outputs": [],
   "source": [
    "# Dynein specific parameters\n",
    "if simParameters['Type'] == 'WT':\n",
    "    simParameters['k_on'] = 0.0025 # Attachment rate [/nM/sec]\n",
    "    simParameters['k_off'] = 73.9/2250 # Detachment rate bulk [/sec]\n",
    "    simParameters['k_off_end'] = simParameters['k_off'] # Detachment rate end lattice [/sec]\n",
    "    simParameters['k_hop'] = 73.9/simParameters['step'] # Forward hopping rate [sites/sec]        \n",
    "    \n",
    "elif simParameters['Type'] == 'SP':\n",
    "    simParameters['k_on'] = 0.0025 # Attachment rate [/nM/sec]\n",
    "    simParameters['k_off'] = 60.6/4390 # Detachment rate bulk [/sec]\n",
    "    simParameters['k_off_end'] = simParameters['k_off'] # Detachment rate end lattice [/sec]\n",
    "    simParameters['k_hop'] = 60.6/simParameters['step'] # Forward hopping rate [sites/sec]  "
   ]
  },
  {
   "cell_type": "code",
   "execution_count": 24,
   "metadata": {},
   "outputs": [],
   "source": [
    "simPa = ParameterSet(simParameters)"
   ]
  },
  {
   "cell_type": "code",
   "execution_count": 5,
   "metadata": {},
   "outputs": [],
   "source": [
    "# Set default folder\n",
    "ROOT  = os.getcwd()\n",
    "\n",
    "sys.path.insert(0, ROOT)\n",
    "\n",
    "# Setup data recording\n",
    "if simPa.record_data:\n",
    "    DATE = str(date.today())\n",
    "    TIME = str(strftime('%X'))\n",
    "    TIME = TIME.replace(':','-')\n",
    "    \n",
    "    foldername = '.\\\\SIM_RUNS\\\\'+ DATE + '__' + TIME\n",
    "    os.makedirs(foldername)"
   ]
  },
  {
   "cell_type": "markdown",
   "metadata": {},
   "source": [
    "### Function to calculate the propensity of each event\n",
    "\n",
    "Event 1) Attachment of a particle to an empty spot    \n",
    "Event 2) Detachment of a particle from an occupied spot   \n",
    "Event 3) Detachment of a particle from the lattice end  \n",
    "Event 4) Forward hopping  \n",
    " "
   ]
  },
  {
   "cell_type": "code",
   "execution_count": 6,
   "metadata": {},
   "outputs": [],
   "source": [
    "# Function: Probability of each event\n",
    "def probability(rates, lattice):\n",
    "    \n",
    "    N_events = np.zeros(4)\n",
    "    Location_events = [None]*4\n",
    "    \n",
    "    # Empty sites    \n",
    "    N_events[0] = (lattice == 0).sum()\n",
    "    Location_events[0] = np.nonzero(lattice == 0)[0]\n",
    "    \n",
    "    # Occupied sites (excluding lattice end)\n",
    "    N_events[1] = (lattice[:-1] == 1).sum()\n",
    "    Location_events[1] = np.nonzero(lattice[:-1] == 1)[0]\n",
    "    \n",
    "    # Lattice end occupation\n",
    "    N_events[2] = (lattice[-1] == 1).sum()\n",
    "    Location_events[2] = np.nonzero(lattice[-1] == 1)[0]\n",
    "    \n",
    "    # Forward hopping events\n",
    "    D_events = np.diff(lattice)\n",
    "    N_events[3] = (D_events == -1).sum()    \n",
    "    Location_events[3] = np.nonzero(D_events == -1)[0]\n",
    "    \n",
    "    # Calculate propensities of each event\n",
    "    pp = np.multiply(rates, N_events)\n",
    "        \n",
    "    return Location_events, pp  "
   ]
  },
  {
   "cell_type": "markdown",
   "metadata": {},
   "source": [
    "### Function to update lattice state\n"
   ]
  },
  {
   "cell_type": "code",
   "execution_count": 7,
   "metadata": {},
   "outputs": [],
   "source": [
    "# Function: update state of lattice\n",
    "def updateState(event, selection, state):\n",
    "    \n",
    "    # Attachment event       \n",
    "    if event == 0:\n",
    "        index = np.random.randint(len(selection))\n",
    "        state[selection[index]] += 1\n",
    "            \n",
    "    # Detachment event lattice\n",
    "    elif event == 1:\n",
    "        index = np.random.randint(len(selection))\n",
    "        state[selection[index]] -= 1\n",
    "                    \n",
    "    # Detachment event lattice end\n",
    "    elif event == 2:\n",
    "        state[-1] -= 1\n",
    "\n",
    "    # Forward hopping event\n",
    "    elif event == 3:\n",
    "        index = np.random.randint(len(selection))\n",
    "        state[selection[index]] -= 1\n",
    "        state[selection[index]+1] += 1\n",
    "       \n",
    "    return state"
   ]
  },
  {
   "cell_type": "markdown",
   "metadata": {},
   "source": [
    "### Function to sample the simulated data"
   ]
  },
  {
   "cell_type": "code",
   "execution_count": 8,
   "metadata": {},
   "outputs": [],
   "source": [
    "# Sample output data\n",
    "def sampleData(data, simPa):    \n",
    "    \n",
    "    # Input\n",
    "    lattice = data[0]\n",
    "    time = data[1]\n",
    "        \n",
    "    # Output\n",
    "    Sampled_data = []\n",
    "    L_out = []\n",
    "    T_out = []\n",
    "            \n",
    "    if simPa.sampling == 0: # Only save the final state\n",
    "        Sampled_data.append(lattice[-1])\n",
    "        Sampled_data.append(time[-1])\n",
    "    else:\n",
    "        Sampled_time = np.arange(1, simPa.T_max)\n",
    "        for dt in Sampled_time:\n",
    "            ind = np.where(time <= dt)[0][-1]        \n",
    "            L_out.append(lattice[ind])\n",
    "            T_out.append(time[ind])\n",
    "\n",
    "        Sampled_data.append(L_out)\n",
    "        Sampled_data.append(T_out)\n",
    "    \n",
    "    return Sampled_data"
   ]
  },
  {
   "cell_type": "markdown",
   "metadata": {},
   "source": [
    "### Function: Gillespie simulation"
   ]
  },
  {
   "cell_type": "code",
   "execution_count": 20,
   "metadata": {},
   "outputs": [],
   "source": [
    "def gillespie(simPa):            \n",
    "    \n",
    "    # Extract simulation parameters\n",
    "    rates = [simPa.Conc*simPa.k_on, simPa.k_off, simPa.k_off_end, simPa.k_hop]\n",
    "\n",
    "    # Initialize simulation\n",
    "    R_counter = 0\n",
    "    tt = 0\n",
    "\n",
    "    # Initialize output\n",
    "    lattice_cont = [np.zeros(simPa.L)]\n",
    "    tt_cont = np.zeros(1)\n",
    "\n",
    "    # Draw randum numbers\n",
    "    rand_nums = np.random.rand(2,simPa.R_max)\n",
    "\n",
    "    # Run Gillespie simulation\n",
    "    while simPa.R_max > R_counter and simPa.T_max+1 > tt:\n",
    "         \n",
    "        # Calculate probability for all events\n",
    "        state = lattice_cont[R_counter]\n",
    "        [Position_events, pp] = probability(rates, state)\n",
    "\n",
    "        # Draw waiting time\n",
    "        delta_t = -np.log(rand_nums[0][R_counter]) / np.sum(pp)\n",
    "\n",
    "        # Construct intervals\n",
    "        valid_inds = pp > 0 # Find the possible events\n",
    "        valid_pp = pp[valid_inds] # Include only valid events\n",
    "        valid_changes = np.nonzero(valid_inds)[0]       \n",
    "        \n",
    "        # Stop current simulation if no valid changes are possible\n",
    "        if len(valid_changes) == 0:\n",
    "            break   \n",
    "\n",
    "        # Construct intervals\n",
    "        selection_interval = np.cumsum(valid_pp) # Cumulative sum\n",
    "        selection_interval = selection_interval/selection_interval[-1] # Normalize to [0,1]\n",
    "\n",
    "        # Select interval\n",
    "        selected_ind = np.nonzero(selection_interval > rand_nums[1][R_counter])[0][0]\n",
    "        update_ind = Position_events[valid_changes[selected_ind]]\n",
    "\n",
    "        # Update lattice configuration\n",
    "        state_new = updateState(valid_changes[selected_ind], update_ind, state)\n",
    "        lattice_cont = np.vstack((lattice_cont, state_new))\n",
    "\n",
    "        # Update time and simulation counter\n",
    "        tt += delta_t\n",
    "        tt_cont = np.append(tt_cont, tt)\n",
    "        R_counter +=1\n",
    "        \n",
    "    return lattice_cont, tt_cont              "
   ]
  },
  {
   "cell_type": "markdown",
   "metadata": {},
   "source": [
    "### Actual Simulation"
   ]
  },
  {
   "cell_type": "code",
   "execution_count": null,
   "metadata": {},
   "outputs": [],
   "source": [
    "# Run simulations\n",
    "SIM_results = []\n",
    "\n",
    "# Initialize progress report\n",
    "start = timeit.default_timer()\n",
    "\n",
    "for runs in range(simPa.MTs):\n",
    "\n",
    "    clear_output(wait=True)\n",
    "    \n",
    "    [L, T] = gillespie(simPa)    \n",
    "    \n",
    "    # Sample data\n",
    "    Sampled_data = sampleData([L,T], simPa)  \n",
    "    \n",
    "    # Store results\n",
    "    SIM_results.append(Sampled_data)\n",
    "            \n",
    "    # Update progress report\n",
    "    print(\"Current progress:\",np.round((runs+1)/simPa.MTs *100, 2),\"%\")          "
   ]
  },
  {
   "cell_type": "code",
   "execution_count": 18,
   "metadata": {},
   "outputs": [
    {
     "name": "stdout",
     "output_type": "stream",
     "text": [
      "[ 30  97 165 232 300]\n"
     ]
    }
   ],
   "source": [
    "Var = np.round(np.linspace(simPa.L_range[0], simPa.L_range[1], num=simPa.Scan_num, dtype=int))\n",
    "print(Var)"
   ]
  },
  {
   "cell_type": "code",
   "execution_count": 25,
   "metadata": {},
   "outputs": [
    {
     "name": "stdout",
     "output_type": "stream",
     "text": [
      "Total progress: 80.0 %\n",
      "Current progress: 100.0 %\n"
     ]
    }
   ],
   "source": [
    "# Run simulations\n",
    "results = []\n",
    "SIM_results = []\n",
    "\n",
    "# Setup parameter scanning\n",
    "if simPa.Scan == 0:\n",
    "    Var = [0]\n",
    "elif simPa.Scan == 1: # Concentration scan\n",
    "    Var = np.round(np.logspace(simPa.Conc_range[0], simPa.Conc_range[1], num=simPa.Scan_num),3)        \n",
    "elif simPa.Scan == 2: # Microtubule length scan\n",
    "    Var = np.round(np.linspace(simPa.L_range[0], simPa.L_range[1], num=simPa.Scan_num, dtype=int))\n",
    "        \n",
    "# Initialize progress report\n",
    "# start = timeit.default_timer()\n",
    "for val in range(len(Var)):       \n",
    "    \n",
    "    # Update parameter\n",
    "    if simPa.Scan == 1:\n",
    "        simPa.Conc = Var[val]\n",
    "    elif simPa.Scan == 2:\n",
    "        simPa.L = Var[val]\n",
    "        \n",
    "    for runs in range(simPa.MTs):\n",
    "\n",
    "        clear_output(wait=True)\n",
    "\n",
    "        [L, T] = gillespie(simPa)    \n",
    "\n",
    "        # Sample data\n",
    "        Sampled_data = sampleData([L,T], simPa)  \n",
    "\n",
    "        # Store results\n",
    "        results.append(Sampled_data)\n",
    "\n",
    "        # Update progress report\n",
    "        print(\"Total progress:\",np.round((val+1)/len(Var) *100, 2),\"%\")\n",
    "        print(\"Current progress:\",np.round((runs+1)/simPa.MTs *100, 2),\"%\")       \n",
    "        \n",
    "    SIM_results.append(results)"
   ]
  },
  {
   "cell_type": "code",
   "execution_count": 82,
   "metadata": {},
   "outputs": [
    {
     "ename": "AttributeError",
     "evalue": "'list' object has no attribute 'size'",
     "output_type": "error",
     "traceback": [
      "\u001b[1;31m---------------------------------------------------------------------------\u001b[0m",
      "\u001b[1;31mAttributeError\u001b[0m                            Traceback (most recent call last)",
      "\u001b[1;32m<ipython-input-82-e9b66122e676>\u001b[0m in \u001b[0;36m<module>\u001b[1;34m\u001b[0m\n\u001b[0;32m      1\u001b[0m \u001b[1;31m# print(SIM_results[0][0][0])\u001b[0m\u001b[1;33m\u001b[0m\u001b[1;33m\u001b[0m\u001b[1;33m\u001b[0m\u001b[0m\n\u001b[1;32m----> 2\u001b[1;33m \u001b[0mlen\u001b[0m\u001b[1;33m(\u001b[0m\u001b[0mSIM_results\u001b[0m\u001b[1;33m[\u001b[0m\u001b[1;36m0\u001b[0m\u001b[1;33m]\u001b[0m\u001b[1;33m[\u001b[0m\u001b[1;36m0\u001b[0m\u001b[1;33m]\u001b[0m\u001b[1;33m[\u001b[0m\u001b[1;36m0\u001b[0m\u001b[1;33m]\u001b[0m\u001b[1;33m.\u001b[0m\u001b[0msize\u001b[0m\u001b[1;33m)\u001b[0m\u001b[1;33m\u001b[0m\u001b[1;33m\u001b[0m\u001b[0m\n\u001b[0m",
      "\u001b[1;31mAttributeError\u001b[0m: 'list' object has no attribute 'size'"
     ]
    }
   ],
   "source": [
    "# print(SIM_results[0][0][0])\n",
    "len(SIM_results[0][0][0].size)"
   ]
  },
  {
   "cell_type": "code",
   "execution_count": null,
   "metadata": {},
   "outputs": [],
   "source": [
    "# Save Data\n",
    "if simPa.record_data:            \n",
    "    filename = foldername + '\\\\' + 'SIM-RUN.data'\n",
    "       \n",
    "    with open(filename, 'wb') as filehandle:\n",
    "        pickle.dump(SIM_results, filehandle)"
   ]
  },
  {
   "cell_type": "markdown",
   "metadata": {},
   "source": [
    "### Data analysis"
   ]
  },
  {
   "cell_type": "code",
   "execution_count": 67,
   "metadata": {},
   "outputs": [
    {
     "data": {
      "image/png": "[encoded data removed]",
      "text/plain": [
       "<Figure size 1080x720 with 6 Axes>"
      ]
     },
     "metadata": {
      "needs_background": "light"
     },
     "output_type": "display_data"
    }
   ],
   "source": [
    "rows = int(np.ceil(simPa.Scan_num/3))\n",
    "cols = 3\n",
    "fig, axs = plt.subplots(rows, cols, figsize = (15,rows*5))\n",
    "\n",
    "# Scan number\n",
    "sc = 0\n",
    "# for sc in range(simPa.Scan_num):\n",
    "    # Prepare data\n",
    "lattice = np.array(SIM_results[sc][0][0])\n",
    "time = np.array(SIM_results[sc][0][1])\n",
    "X = np.arange(0, lattice.shape[1])\n",
    "X = X * (simPa.step/1000) # change units to um\n",
    "Y = np.arange(0, lattice.shape[0])\n",
    "X, Y = np.meshgrid(X, Y)\n",
    "\n",
    "# Prepare mean data from all simulations\n",
    "data = np.array(SIM_results[sc])\n",
    "arrays = [data[x][0] for x in range(len(data))]\n",
    "# Z_mean = np.mean(arrays, axis=0)\n",
    "    \n",
    "# axs[sc%rows, sc%cols].contourf(X, Y, Z_mean, 15,  cmap='RdGy')\n",
    "#     axs[sc%rows, sc%cols].set_ylim(time[-1],0)\n",
    "    "
   ]
  },
  {
   "cell_type": "code",
   "execution_count": 74,
   "metadata": {},
   "outputs": [
    {
     "data": {
      "text/plain": [
       "(250, 2, 299)"
      ]
     },
     "execution_count": 74,
     "metadata": {},
     "output_type": "execute_result"
    }
   ],
   "source": [
    "sc = 0\n",
    "data = np.array(SIM_results)\n",
    "data[0].shape\n",
    "# arrays = [data[x][0] for x in range(len(data))]\n",
    "# Z_mean = np.mean(arrays, axis=1)\n",
    "# print(data.shape)"
   ]
  },
  {
   "cell_type": "code",
   "execution_count": null,
   "metadata": {},
   "outputs": [],
   "source": [
    "# Plot kymographs: single simulation and mean \n",
    "fig, (ax1, ax2) = plt.subplots(1,2, figsize = (15,5))\n",
    "\n",
    "# Prepare data from single simulation.\n",
    "sim_nr = 0\n",
    "lattice = np.array(SIM_results[sim_nr][0])\n",
    "time = np.array(SIM_results[sim_nr][1])\n",
    "\n",
    "X = np.arange(0, lattice.shape[1])\n",
    "X = X * (simPa.step/1000) # change units to um\n",
    "Y = np.arange(0, lattice.shape[0])\n",
    "X, Y = np.meshgrid(X, Y)\n",
    "Z = lattice\n",
    "\n",
    "# Prepare mean data from all simulations\n",
    "arrays = [np.array(SIM_results[x][0]) for x in range(len(SIM_results))]\n",
    "Z_mean = np.mean(arrays, axis=0)\n",
    "\n",
    "# Plot the filled contour from single simulation.\n",
    "ax1.contourf(X, Y, Z, cmap='Greys')\n",
    "# ax1.set_xlim(X[0][-1],0)\n",
    "ax1.set_ylim(time[-1],0)\n",
    "ax1.set_xlabel('Length ($\\mu$m)', fontsize=13)\n",
    "ax1.set_ylabel('Time (s)', fontsize=13)\n",
    "ax1.set_title('Kymograph single', fontsize=15)\n",
    "\n",
    "# Plot the filled contour from single simulation.\n",
    "Csf = ax2.contourf(X, Y, Z_mean, 25,  cmap='RdGy' )\n",
    "fig.colorbar(Csf, ax=ax2)\n",
    "\n",
    "# Extract contour lines\n",
    "# cs = plt.contour(X, Y, Z_mean, 1, colors='black');\n",
    "# p = cs.collections[0].get_paths()[0]\n",
    "# v = p.vertices\n",
    "# x_contour = v[:,0]\n",
    "# y_contour = v[:,1]\n",
    "\n",
    "# ax2.contour(X, Y, Z_mean, 2)\n",
    "# ax2.set_xlim(X[0][-1],0)\n",
    "ax2.set_ylim(time[-1],0)\n",
    "ax2.set_xlabel('Length ($\\mu$m)', fontsize=13)\n",
    "ax2.set_ylabel('Time (s)', fontsize=13)\n",
    "ax2.set_title('Kymograph mean (N=' + str(simPa.MTs) + ')', fontsize=15)\n",
    "\n",
    "plt.show()"
   ]
  },
  {
   "cell_type": "code",
   "execution_count": null,
   "metadata": {},
   "outputs": [],
   "source": [
    "# Plot mean distribution of lattice occupation \n",
    "\n",
    "fig, (ax1,ax2) = plt.subplots(1,2 ,figsize = (15,5))\n",
    "\n",
    "# Prepare data steady-state duration\n",
    "arrays = [np.array(SIM_results[x][0]) for x in range(len(SIM_results))]\n",
    "Z_mean = np.mean(arrays, axis=0)\n",
    "\n",
    "\n",
    "\n",
    "ax1.plot()\n",
    "\n",
    "\n",
    "# Prepare data mean density\n",
    "X = np.arange(0, len(np.array(SIM_results[sim_nr][0][0])))\n",
    "X = X * (simPa.step/1000) # change units to um\n",
    "density_final = [np.array(SIM_results[x][0][-1]) for x in range(len(SIM_results))]\n",
    "Y = np.mean(density_final, axis=0)\n",
    "\n",
    "ax2.plot(X,Y)\n",
    "ax2.set_xlabel('Length ($\\mu$m)', fontsize=13)\n",
    "ax2.set_ylabel('Motor density' , fontsize=13)\n",
    "ax2.set_title('Mean motor density (N= ' + str(simPa.MTs) + ')', fontsize = 15)\n",
    "\n",
    "plt.show()"
   ]
  },
  {
   "cell_type": "code",
   "execution_count": null,
   "metadata": {},
   "outputs": [],
   "source": [
    "\n"
   ]
  },
  {
   "cell_type": "code",
   "execution_count": null,
   "metadata": {},
   "outputs": [],
   "source": []
  },
  {
   "cell_type": "code",
   "execution_count": null,
   "metadata": {},
   "outputs": [],
   "source": []
  }
 ],
 "metadata": {
  "kernelspec": {
   "display_name": "Python 3",
   "language": "python",
   "name": "python3"
  },
  "language_info": {
   "codemirror_mode": {
    "name": "ipython",
    "version": 3
   },
   "file_extension": ".py",
   "mimetype": "text/x-python",
   "name": "python",
   "nbconvert_exporter": "python",
   "pygments_lexer": "ipython3",
   "version": "3.7.3"
  }
 },
 "nbformat": 4,
 "nbformat_minor": 2
}
